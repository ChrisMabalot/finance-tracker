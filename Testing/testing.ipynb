{
 "cells": [
  {
   "cell_type": "code",
   "execution_count": null,
   "metadata": {},
   "outputs": [],
   "source": [
    "columns = ['Ticker', 'Quantity', 'Purchase_Date', 'Purchase_Time']\n",
    "\n",
    "tickers = ['BTC', 'ETH', 'ADA', 'CRO', 'HBAR', 'XRP']\n",
    "quantity = [0.5094, 5.584, 22626, 25017, 28639, 3599]\n",
    "purchase_date = ['12-06-2022', '12-06-2022', '12-06-2022', '12-06-2022', '12-06-2022', '12-06-2022']\n",
    "purchase_time = ['21:36', '21:24', '20:48', '22:09', '22:00', '21:53']"
   ]
  }
 ],
 "metadata": {
  "kernelspec": {
   "display_name": "FinanceTracker",
   "language": "python",
   "name": "python3"
  },
  "language_info": {
   "name": "python",
   "version": "3.10.8 (main, Nov 24 2022, 08:09:04) [Clang 14.0.6 ]"
  },
  "orig_nbformat": 4,
  "vscode": {
   "interpreter": {
    "hash": "2dfd56b90d95eda155dff6550f905b240f0fb89280aa3b149986cfa3cbac6aed"
   }
  }
 },
 "nbformat": 4,
 "nbformat_minor": 2
}
