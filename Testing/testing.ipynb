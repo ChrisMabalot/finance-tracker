{
 "cells": [
  {
   "cell_type": "code",
   "execution_count": 2,
   "metadata": {},
   "outputs": [],
   "source": [
    "import pandas as pd"
   ]
  },
  {
   "cell_type": "code",
   "execution_count": 3,
   "metadata": {},
   "outputs": [],
   "source": [
    "columns = ['Ticker', 'Quantity', 'Purchase_Date', 'Purchase_Time']\n",
    "\n",
    "tickers = ['BTC', 'ETH', 'ADA', 'CRO', 'HBAR', 'XRP']\n",
    "quantity = [0.5094, 5.584, 22626, 25017, 28639, 3599]\n",
    "purchase_date = ['12-06-2022', '12-06-2022', '12-06-2022', '12-06-2022', '12-06-2022', '12-06-2022']\n",
    "purchase_time = ['21:36', '21:24', '20:48', '22:09', '22:00', '21:53']"
   ]
  },
  {
   "cell_type": "code",
   "execution_count": 4,
   "metadata": {},
   "outputs": [],
   "source": [
    "example_investments = pd.DataFrame(list(zip(tickers, quantity, purchase_date, purchase_time)), columns = columns)"
   ]
  },
  {
   "cell_type": "code",
   "execution_count": 5,
   "metadata": {},
   "outputs": [
    {
     "data": {
      "text/html": [
       "<div>\n",
       "<style scoped>\n",
       "    .dataframe tbody tr th:only-of-type {\n",
       "        vertical-align: middle;\n",
       "    }\n",
       "\n",
       "    .dataframe tbody tr th {\n",
       "        vertical-align: top;\n",
       "    }\n",
       "\n",
       "    .dataframe thead th {\n",
       "        text-align: right;\n",
       "    }\n",
       "</style>\n",
       "<table border=\"1\" class=\"dataframe\">\n",
       "  <thead>\n",
       "    <tr style=\"text-align: right;\">\n",
       "      <th></th>\n",
       "      <th>Ticker</th>\n",
       "      <th>Quantity</th>\n",
       "      <th>Purchase_Date</th>\n",
       "      <th>Purchase_Time</th>\n",
       "    </tr>\n",
       "  </thead>\n",
       "  <tbody>\n",
       "    <tr>\n",
       "      <th>0</th>\n",
       "      <td>BTC</td>\n",
       "      <td>0.5094</td>\n",
       "      <td>12-06-2022</td>\n",
       "      <td>21:36</td>\n",
       "    </tr>\n",
       "    <tr>\n",
       "      <th>1</th>\n",
       "      <td>ETH</td>\n",
       "      <td>5.5840</td>\n",
       "      <td>12-06-2022</td>\n",
       "      <td>21:24</td>\n",
       "    </tr>\n",
       "    <tr>\n",
       "      <th>2</th>\n",
       "      <td>ADA</td>\n",
       "      <td>22626.0000</td>\n",
       "      <td>12-06-2022</td>\n",
       "      <td>20:48</td>\n",
       "    </tr>\n",
       "    <tr>\n",
       "      <th>3</th>\n",
       "      <td>CRO</td>\n",
       "      <td>25017.0000</td>\n",
       "      <td>12-06-2022</td>\n",
       "      <td>22:09</td>\n",
       "    </tr>\n",
       "    <tr>\n",
       "      <th>4</th>\n",
       "      <td>HBAR</td>\n",
       "      <td>28639.0000</td>\n",
       "      <td>12-06-2022</td>\n",
       "      <td>22:00</td>\n",
       "    </tr>\n",
       "    <tr>\n",
       "      <th>5</th>\n",
       "      <td>XRP</td>\n",
       "      <td>3599.0000</td>\n",
       "      <td>12-06-2022</td>\n",
       "      <td>21:53</td>\n",
       "    </tr>\n",
       "  </tbody>\n",
       "</table>\n",
       "</div>"
      ],
      "text/plain": [
       "  Ticker    Quantity Purchase_Date Purchase_Time\n",
       "0    BTC      0.5094    12-06-2022         21:36\n",
       "1    ETH      5.5840    12-06-2022         21:24\n",
       "2    ADA  22626.0000    12-06-2022         20:48\n",
       "3    CRO  25017.0000    12-06-2022         22:09\n",
       "4   HBAR  28639.0000    12-06-2022         22:00\n",
       "5    XRP   3599.0000    12-06-2022         21:53"
      ]
     },
     "execution_count": 5,
     "metadata": {},
     "output_type": "execute_result"
    }
   ],
   "source": [
    "example_investments"
   ]
  }
 ],
 "metadata": {
  "kernelspec": {
   "display_name": "FinanceTracker",
   "language": "python",
   "name": "python3"
  },
  "language_info": {
   "codemirror_mode": {
    "name": "ipython",
    "version": 3
   },
   "file_extension": ".py",
   "mimetype": "text/x-python",
   "name": "python",
   "nbconvert_exporter": "python",
   "pygments_lexer": "ipython3",
   "version": "3.10.8"
  },
  "orig_nbformat": 4,
  "vscode": {
   "interpreter": {
    "hash": "2dfd56b90d95eda155dff6550f905b240f0fb89280aa3b149986cfa3cbac6aed"
   }
  }
 },
 "nbformat": 4,
 "nbformat_minor": 2
}
